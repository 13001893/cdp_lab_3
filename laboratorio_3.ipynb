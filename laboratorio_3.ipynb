{
 "cells": [
  {
   "cell_type": "markdown",
   "metadata": {},
   "source": [
    "# Laboratorio 3 \n",
    "## Ciencias de Datos en Python\n",
    "\n",
    "*20240228*\n",
    "**Diego Morales**\n",
    "\n",
    "Para este laboratorio deberá entregar el link de GitHub a un Notebook de Jupyter con todo el código y comentarios que considere necesario para dar solución a lo planteado, copie la pregunta en una celda de Markdown y de solución a la misma con las celdas de código de Python."
   ]
  },
  {
   "cell_type": "markdown",
   "metadata": {},
   "source": [
    "### Parte 1: Numpy\n",
    "\n",
    "Para los ejercicios siguiente genere el código que considere para resolver el problema que se le plantea."
   ]
  },
  {
   "cell_type": "code",
   "execution_count": 2,
   "metadata": {},
   "outputs": [],
   "source": [
    "import numpy as np"
   ]
  },
  {
   "cell_type": "markdown",
   "metadata": {},
   "source": [
    "1. ¿Cuál es el tamaño en bytes de un array de 1000\n",
    "elementos de tipo booleano?"
   ]
  },
  {
   "cell_type": "code",
   "execution_count": 3,
   "metadata": {},
   "outputs": [
    {
     "data": {
      "text/plain": [
       "1000"
      ]
     },
     "execution_count": 3,
     "metadata": {},
     "output_type": "execute_result"
    }
   ],
   "source": [
    "np.full(1000, True, dtype=bool).nbytes"
   ]
  },
  {
   "cell_type": "markdown",
   "metadata": {},
   "source": [
    "2. Cree un array cuyos elementos sean los enteros pares en [1,100] y en orden decreciente. Muestre los 10 últimos por pantalla."
   ]
  },
  {
   "cell_type": "code",
   "execution_count": 4,
   "metadata": {},
   "outputs": [
    {
     "data": {
      "text/plain": [
       "array([20, 18, 16, 14, 12, 10,  8,  6,  4,  2])"
      ]
     },
     "execution_count": 4,
     "metadata": {},
     "output_type": "execute_result"
    }
   ],
   "source": [
    "np.arange(100, 1, -2)[-10:]"
   ]
  },
  {
   "cell_type": "markdown",
   "metadata": {},
   "source": [
    "3. Dado el array\n",
    "\n",
    "2456\n",
    "\n",
    "0374\n",
    "\n",
    "8852\n",
    "\n",
    "1561\n",
    "\n",
    "Seleccione con una instrucción el subarray de elementos\n",
    "\n",
    "0374\n",
    "\n",
    "Después, seleccione el subarray de elementos\n",
    "\n",
    "25\n",
    "\n",
    "85"
   ]
  },
  {
   "cell_type": "code",
   "execution_count": 21,
   "metadata": {},
   "outputs": [
    {
     "name": "stdout",
     "output_type": "stream",
     "text": [
      "subarray 1: [0 3 7 4]\n",
      "subarray 2: [[2 5]\n",
      " [8 5]]\n"
     ]
    }
   ],
   "source": [
    "array = np.array([[2, 4, 5, 6], [0, 3, 7, 4], [8, 8, 5, 2], [1, 5, 6, 1]])\n",
    "print(f'subarray 1: {array[1]}')\n",
    "print(f'subarray 2: {array[0:3:2, 0:3:2]}')"
   ]
  },
  {
   "cell_type": "markdown",
   "metadata": {},
   "source": [
    "4. Dados los arrays a = [1, 4, 2, 7] y b = [1, 3, 2, 9], obtenga la media aritmética de la diferencia (a-b)."
   ]
  },
  {
   "cell_type": "code",
   "execution_count": 23,
   "metadata": {},
   "outputs": [
    {
     "data": {
      "text/plain": [
       "-0.25"
      ]
     },
     "execution_count": 23,
     "metadata": {},
     "output_type": "execute_result"
    }
   ],
   "source": [
    "a = np.array([1, 4, 2, 7])\n",
    "b = np.array([1, 3, 2, 9])\n",
    "\n",
    "np.mean(a-b)"
   ]
  },
  {
   "cell_type": "markdown",
   "metadata": {},
   "source": [
    "5. Tengo valores de cordenadas (x, y) en las columnas del array\n",
    "\n",
    "   1.33 4.5\n",
    "\n",
    "   30.0 10.7\n",
    "   \n",
    "   70.2 0.5\n",
    "\n",
    "Agregue a este array las coordenadas (37.1, -3.6).\n",
    "Muestre en pantalla las dimensiones del nuevo\n",
    "array."
   ]
  },
  {
   "cell_type": "code",
   "execution_count": 62,
   "metadata": {},
   "outputs": [
    {
     "name": "stdout",
     "output_type": "stream",
     "text": [
      "[[ 1.33  4.5 ]\n",
      " [30.   10.7 ]\n",
      " [70.2   0.5 ]\n",
      " [37.1  -3.6 ]]\n",
      "(4, 2)\n"
     ]
    }
   ],
   "source": [
    "coordenadas = np.array([[1.33, 4.5], [30.0, 10.7], [70.2, 0.5]])\n",
    "nuevas = np.array([[37.1, -3.6]])\n",
    "coordenadas = np.append(coordenadas, nuevas, axis=0)\n",
    "\n",
    "print(coordenadas)\n",
    "print(coordenadas.shape)"
   ]
  },
  {
   "cell_type": "markdown",
   "metadata": {},
   "source": [
    "6. Copie el array del ejercicio anterior. Traspóngalo (. Agregue ahora dos nuevos pares de coordenadas: (10.8, 3.0) y (35.8, 12.0)."
   ]
  },
  {
   "cell_type": "code",
   "execution_count": 64,
   "metadata": {},
   "outputs": [
    {
     "name": "stdout",
     "output_type": "stream",
     "text": [
      "[[ 1.33 30.   70.2  37.1  10.8  35.8 ]\n",
      " [ 4.5  10.7   0.5  -3.6   3.   12.  ]]\n",
      "(2, 6)\n"
     ]
    }
   ],
   "source": [
    "coordenadas_2 = coordenadas.copy()\n",
    "coordenadas_2 = coordenadas_2.T\n",
    "nuevas_2 = np.array([[10.8, 3.0], [35.8, 12.0]])\n",
    "coordenadas_2 = np.append(coordenadas_2, nuevas_2.T, axis=1)\n",
    "\n",
    "print(coordenadas_2)\n",
    "print(coordenadas_2.shape)"
   ]
  },
  {
   "cell_type": "markdown",
   "metadata": {},
   "source": [
    "### Parte 2: Pandas\n",
    "\n",
    "Con el dataset nucleospoblacion.csv adjunto al laboratorio, luego responda las siguientes preguntas usando pandas y matplotlib."
   ]
  },
  {
   "cell_type": "code",
   "execution_count": 71,
   "metadata": {},
   "outputs": [
    {
     "data": {
      "text/html": [
       "<div>\n",
       "<style scoped>\n",
       "    .dataframe tbody tr th:only-of-type {\n",
       "        vertical-align: middle;\n",
       "    }\n",
       "\n",
       "    .dataframe tbody tr th {\n",
       "        vertical-align: top;\n",
       "    }\n",
       "\n",
       "    .dataframe thead th {\n",
       "        text-align: right;\n",
       "    }\n",
       "</style>\n",
       "<table border=\"1\" class=\"dataframe\">\n",
       "  <thead>\n",
       "    <tr style=\"text-align: right;\">\n",
       "      <th></th>\n",
       "      <th>FID</th>\n",
       "      <th>OBJECTID</th>\n",
       "      <th>Texto</th>\n",
       "      <th>Poblacion</th>\n",
       "      <th>CodMun</th>\n",
       "      <th>Municipio</th>\n",
       "      <th>CodProvin</th>\n",
       "      <th>Provincia</th>\n",
       "      <th>X</th>\n",
       "      <th>Y</th>\n",
       "    </tr>\n",
       "  </thead>\n",
       "  <tbody>\n",
       "    <tr>\n",
       "      <th>0</th>\n",
       "      <td>0</td>\n",
       "      <td>1</td>\n",
       "      <td>Agüimes</td>\n",
       "      <td>29431.0</td>\n",
       "      <td>35002</td>\n",
       "      <td>Agüimes</td>\n",
       "      <td>35</td>\n",
       "      <td>Las Palmas</td>\n",
       "      <td>-15.446012</td>\n",
       "      <td>27.900542</td>\n",
       "    </tr>\n",
       "    <tr>\n",
       "      <th>1</th>\n",
       "      <td>1</td>\n",
       "      <td>2</td>\n",
       "      <td>Antigua</td>\n",
       "      <td>10458.0</td>\n",
       "      <td>35003</td>\n",
       "      <td>Antigua</td>\n",
       "      <td>35</td>\n",
       "      <td>Las Palmas</td>\n",
       "      <td>-14.013301</td>\n",
       "      <td>28.418966</td>\n",
       "    </tr>\n",
       "    <tr>\n",
       "      <th>2</th>\n",
       "      <td>2</td>\n",
       "      <td>3</td>\n",
       "      <td>Arrecife</td>\n",
       "      <td>58156.0</td>\n",
       "      <td>35004</td>\n",
       "      <td>Arrecife</td>\n",
       "      <td>35</td>\n",
       "      <td>Las Palmas</td>\n",
       "      <td>-13.551451</td>\n",
       "      <td>28.960649</td>\n",
       "    </tr>\n",
       "    <tr>\n",
       "      <th>3</th>\n",
       "      <td>3</td>\n",
       "      <td>4</td>\n",
       "      <td>Arucas</td>\n",
       "      <td>36745.0</td>\n",
       "      <td>35006</td>\n",
       "      <td>Arucas</td>\n",
       "      <td>35</td>\n",
       "      <td>Las Palmas</td>\n",
       "      <td>-15.521512</td>\n",
       "      <td>28.117496</td>\n",
       "    </tr>\n",
       "    <tr>\n",
       "      <th>4</th>\n",
       "      <td>4</td>\n",
       "      <td>5</td>\n",
       "      <td>Gáldar</td>\n",
       "      <td>24473.0</td>\n",
       "      <td>35009</td>\n",
       "      <td>Gáldar</td>\n",
       "      <td>35</td>\n",
       "      <td>Las Palmas</td>\n",
       "      <td>-15.654111</td>\n",
       "      <td>28.143873</td>\n",
       "    </tr>\n",
       "  </tbody>\n",
       "</table>\n",
       "</div>"
      ],
      "text/plain": [
       "   FID  OBJECTID     Texto  Poblacion  CodMun Municipio  CodProvin  \\\n",
       "0    0         1   Agüimes    29431.0   35002   Agüimes         35   \n",
       "1    1         2   Antigua    10458.0   35003   Antigua         35   \n",
       "2    2         3  Arrecife    58156.0   35004  Arrecife         35   \n",
       "3    3         4    Arucas    36745.0   35006    Arucas         35   \n",
       "4    4         5    Gáldar    24473.0   35009    Gáldar         35   \n",
       "\n",
       "    Provincia          X          Y  \n",
       "0  Las Palmas -15.446012  27.900542  \n",
       "1  Las Palmas -14.013301  28.418966  \n",
       "2  Las Palmas -13.551451  28.960649  \n",
       "3  Las Palmas -15.521512  28.117496  \n",
       "4  Las Palmas -15.654111  28.143873  "
      ]
     },
     "execution_count": 71,
     "metadata": {},
     "output_type": "execute_result"
    }
   ],
   "source": [
    "import pandas as pd\n",
    "import matplotlib.pyplot as plt\n",
    "\n",
    "df = pd.read_csv('NucleosPoblacion.csv')\n",
    "df.head()"
   ]
  },
  {
   "cell_type": "markdown",
   "metadata": {},
   "source": [
    "1. ¿Cuántos Municipios tienen más de 100000 habitantes?"
   ]
  },
  {
   "cell_type": "code",
   "execution_count": 176,
   "metadata": {},
   "outputs": [
    {
     "name": "stdout",
     "output_type": "stream",
     "text": [
      "2 Municipios tienen más de 1,000,000 de habitantes\n"
     ]
    }
   ],
   "source": [
    "muni_1_millon = (df\n",
    "    [df.Poblacion>1e6]\n",
    "    .Municipio\n",
    "    .count()\n",
    ")\n",
    "\n",
    "print(f'{muni_1_millon} Municipios tienen más de 1,000,000 de habitantes')"
   ]
  },
  {
   "cell_type": "markdown",
   "metadata": {},
   "source": [
    "2. Realice una gráfica de barras sobre la población de cada ciudad, ordenela de menor a mayo y responda:\n",
    "\n",
    "- ¿Cuál es la segunda ciudad más poblada?\n",
    "- ¿Qué posición ocupa Granada en el ranking de las ciudades más pobladas?"
   ]
  },
  {
   "cell_type": "code",
   "execution_count": 212,
   "metadata": {},
   "outputs": [
    {
     "name": "stdout",
     "output_type": "stream",
     "text": [
      "La segunda ciudad más poblada es Barcelona\n",
      "Granada ocupa la posición 17\n"
     ]
    },
    {
     "data": {
      "image/png": "[encoded data removed]",
      "text/plain": [
       "<Figure size 400x1000 with 1 Axes>"
      ]
     },
     "metadata": {},
     "output_type": "display_data"
    }
   ],
   "source": [
    "provincias = (df\n",
    "    .groupby(by='Provincia', as_index=False)\n",
    "    .Poblacion\n",
    "    .sum()\n",
    "    .sort_values(by='Poblacion', ascending=False)\n",
    "    .set_index('Provincia')\n",
    ")\n",
    "\n",
    "provincias.plot(kind='barh',figsize=(4, 10))\n",
    "segunda_ciudad = provincias.index[1] # los indices inician en 0\n",
    "print(f'La segunda ciudad más poblada es {segunda_ciudad}')\n",
    "posiciones = provincias.reset_index()\n",
    "pos_granada = posiciones[posiciones.Provincia=='Granada'].index[0]+1 # los indices inician en 0\n",
    "print(f'Granada ocupa la posición {pos_granada}')"
   ]
  },
  {
   "cell_type": "markdown",
   "metadata": {},
   "source": [
    "3) ¿Cuántos municipios de Extremadura tienen más de 5000 habitantes?."
   ]
  },
  {
   "cell_type": "code",
   "execution_count": 180,
   "metadata": {},
   "outputs": [
    {
     "name": "stdout",
     "output_type": "stream",
     "text": [
      "14 municipios de Extremadura tienen más de 5,000 habitantes\n"
     ]
    }
   ],
   "source": [
    "muni_extremadura = (df\n",
    "    [(df.Provincia.isin(['Cáceres', 'Badajoz']))\n",
    "     & (df.Poblacion>5000)]\n",
    "     .shape[0]\n",
    ")\n",
    "\n",
    "print(f'{muni_extremadura} municipios de Extremadura tienen más de 5,000 habitantes')"
   ]
  },
  {
   "cell_type": "markdown",
   "metadata": {},
   "source": [
    "4) ¿Cuál es el municipio situado más al Norte? (Usar el valor de la coordenada \"Y\" que representa la latitud en grados). Proporcione también la provincia a la que pertenece y su población."
   ]
  },
  {
   "cell_type": "code",
   "execution_count": 211,
   "metadata": {},
   "outputs": [
    {
     "name": "stdout",
     "output_type": "stream",
     "text": [
      "El municipio situado más al Norte es Viveiro de la Provincia de Lugo con una Población de 16211.0\n"
     ]
    }
   ],
   "source": [
    "muni_norte = (df\n",
    "    [df.Y==df.Y.max()]\n",
    ")\n",
    "\n",
    "print(f'El municipio situado más al Norte es {muni_norte[\"Municipio\"].values[0]} de la Provincia de {muni_norte[\"Provincia\"].values[0]} con una Población de {muni_norte[\"Poblacion\"].values[0]}')"
   ]
  },
  {
   "cell_type": "markdown",
   "metadata": {},
   "source": [
    "5) Obtenga la media, mediana, desviación estándar, valor máximo y valor mínimo de la población de los municipios de la provincia de Granada. "
   ]
  },
  {
   "cell_type": "code",
   "execution_count": null,
   "metadata": {},
   "outputs": [],
   "source": []
  },
  {
   "cell_type": "markdown",
   "metadata": {},
   "source": [
    "6. Realice un histograma con la población de los Municipios para cada una de las provincias."
   ]
  },
  {
   "cell_type": "code",
   "execution_count": null,
   "metadata": {},
   "outputs": [],
   "source": []
  },
  {
   "cell_type": "markdown",
   "metadata": {},
   "source": [
    "\n",
    "7) Seleccione al azar cincuenta municipios diferentes de entre los diponibles en el archivo. Asegúrese de que no se repitan. ¿Luego calcule el promedio de la población y la desviación estándar de esto 50 municipios?."
   ]
  },
  {
   "cell_type": "code",
   "execution_count": null,
   "metadata": {},
   "outputs": [],
   "source": []
  },
  {
   "cell_type": "markdown",
   "metadata": {},
   "source": [
    "8. Determine los nombres de los Municipios más cercano y más lejano a Madrid. Para ello debe calcular la distancia en todos ellos y Madrid. No considere a Madrid en el análisis ya que la distancia sería cero."
   ]
  },
  {
   "cell_type": "code",
   "execution_count": null,
   "metadata": {},
   "outputs": [],
   "source": []
  }
 ],
 "metadata": {
  "kernelspec": {
   "display_name": "Python 3",
   "language": "python",
   "name": "python3"
  },
  "language_info": {
   "codemirror_mode": {
    "name": "ipython",
    "version": 3
   },
   "file_extension": ".py",
   "mimetype": "text/x-python",
   "name": "python",
   "nbconvert_exporter": "python",
   "pygments_lexer": "ipython3",
   "version": "3.11.5"
  }
 },
 "nbformat": 4,
 "nbformat_minor": 2
}
